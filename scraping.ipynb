{
 "cells": [
  {
   "cell_type": "code",
   "execution_count": 23,
   "id": "7db7d0a3",
   "metadata": {},
   "outputs": [],
   "source": [
    "#Zipcodes\n",
    "zipSeattle =[98101,98102,98103,98104,98105,98106,98107,98108,98109,98112,98115,98116,98117,98118,98119,98121,98122,98125,98126,98133,98134,98136,98144,98154,98164,98174,98195,98199]\n",
    "\n",
    "zipBay = [94002,94005,94010,94014,94015,94019,94020,94021,94025,94027,94028,94030,94037,94038,94044,94060,94061,94062,94063,94065,94066,94070,94074,94080,94102,94103,94104,94105,94107,94108,94109,94110,94111,94112,94114,94115,94116,94117,94118,94121,94122,94123,94124,94127,94128,94129,94130,94131,94132,94133,94134,94158,94401,94402,94403,94404,94501,94502,94505,94506,94507,94509,94511,94513,94514,94516,94517,94518,94519,94520,94521,94523,94525,94526,94528,94530,94531,94536,94538,94539,94541,94542,94544,94545,94546,94547,94548,94549,94550,94551,94552,94553,94555,94556,94560,94561,94563,94564,94565,94566,94568,94569,94572,94575,94577,94578,94579,94580,94582,94583,94586,94587,94588,94595,94596,94597,94598,94601,94602,94603,94605,94606,94607,94608,94609,94610,94611,94612,94613,94618,94619,94621,94702,94703,94704,94705,94706,94707,94708,94709,94710,94720,94801,94803,94804,94805,94806,94850,94901,94903,94904,94920,94924,94925,94929,94930,94933,94937,94938,94939,94940,94941,94945,94946,94947,94949,94950,94956,94957,94960,94963,94964,94965,94970,94971,94973]\n",
    "\n",
    "zipAustin = [78701,78705,78722,78728,78732,78736,78744,78748,78752,78758,78702,78717,78723,78729,78733,78738,78745,78749,78753,78759,78703,78719,78725,78730,78734,78739,78746,78750,78756,78704,78721,78727,78731,78735,78742,78747,78751,78757]"
   ]
  },
  {
   "cell_type": "code",
   "execution_count": 24,
   "id": "7508356f",
   "metadata": {},
   "outputs": [],
   "source": [
    "import requests\n",
    "import pandas as pd\n",
    "\n",
    "#pip install quandl\n",
    "import quandl\n",
    "\n",
    "quandl.ApiConfig.api_key = 'GENoqCLiUfGvtBjP6HhD'\n",
    "\n",
    "\n",
    "\n"
   ]
  },
  {
   "cell_type": "code",
   "execution_count": 25,
   "id": "6f5ee899",
   "metadata": {},
   "outputs": [],
   "source": [
    "#Seattle housing prices\n",
    "SeattleDF = pd.DataFrame()\n",
    "for zipcode in zipSeattle:\n",
    "    #returns pandas dataframe\n",
    "    response = quandl.get_table('ZILLOW/DATA', indicator_id='ZSFH', region_id= str(zipcode))\n",
    "    df = response.drop(columns=['indicator_id', 'date'])\n",
    "    SeattleDF = pd.concat([SeattleDF, df], ignore_index=True)"
   ]
  },
  {
   "cell_type": "code",
   "execution_count": 26,
   "id": "95507ec4",
   "metadata": {},
   "outputs": [],
   "source": [
    "#Bay housing prices\n",
    "BayDF = pd.DataFrame()\n",
    "for zipcode in zipBay:\n",
    "    #returns pandas dataframe\n",
    "    response = quandl.get_table('ZILLOW/DATA', indicator_id='ZSFH', region_id= str(zipcode))\n",
    "    df = response.drop(columns=['indicator_id', 'date'])\n",
    "    BayDF = pd.concat([BayDF, df], ignore_index=True)"
   ]
  },
  {
   "cell_type": "code",
   "execution_count": 27,
   "id": "50589ee4",
   "metadata": {},
   "outputs": [],
   "source": [
    "#Austin housing prices\n",
    "AustinDF = pd.DataFrame()\n",
    "for zipcode in zipAustin:\n",
    "    #returns pandas dataframe\n",
    "    response = quandl.get_table('ZILLOW/DATA', indicator_id='ZSFH', region_id= str(zipcode))\n",
    "    df = response.drop(columns=['indicator_id', 'date'])\n",
    "    AustinDF = pd.concat([AustinDF, df], ignore_index=True)"
   ]
  },
  {
   "cell_type": "code",
   "execution_count": 28,
   "id": "0bc4bbc3",
   "metadata": {
    "scrolled": true
   },
   "outputs": [
    {
     "data": {
      "text/html": [
       "<div>\n",
       "<style scoped>\n",
       "    .dataframe tbody tr th:only-of-type {\n",
       "        vertical-align: middle;\n",
       "    }\n",
       "\n",
       "    .dataframe tbody tr th {\n",
       "        vertical-align: top;\n",
       "    }\n",
       "\n",
       "    .dataframe thead th {\n",
       "        text-align: right;\n",
       "    }\n",
       "</style>\n",
       "<table border=\"1\" class=\"dataframe\">\n",
       "  <thead>\n",
       "    <tr style=\"text-align: right;\">\n",
       "      <th></th>\n",
       "      <th>region_id</th>\n",
       "      <th>value</th>\n",
       "    </tr>\n",
       "  </thead>\n",
       "  <tbody>\n",
       "    <tr>\n",
       "      <th>0</th>\n",
       "      <td>98101</td>\n",
       "      <td>497759.0</td>\n",
       "    </tr>\n",
       "    <tr>\n",
       "      <th>1</th>\n",
       "      <td>98101</td>\n",
       "      <td>498753.0</td>\n",
       "    </tr>\n",
       "    <tr>\n",
       "      <th>2</th>\n",
       "      <td>98101</td>\n",
       "      <td>492368.0</td>\n",
       "    </tr>\n",
       "    <tr>\n",
       "      <th>3</th>\n",
       "      <td>98101</td>\n",
       "      <td>463890.0</td>\n",
       "    </tr>\n",
       "    <tr>\n",
       "      <th>4</th>\n",
       "      <td>98101</td>\n",
       "      <td>453639.0</td>\n",
       "    </tr>\n",
       "    <tr>\n",
       "      <th>...</th>\n",
       "      <td>...</td>\n",
       "      <td>...</td>\n",
       "    </tr>\n",
       "    <tr>\n",
       "      <th>5018</th>\n",
       "      <td>98199</td>\n",
       "      <td>214738.0</td>\n",
       "    </tr>\n",
       "    <tr>\n",
       "      <th>5019</th>\n",
       "      <td>98199</td>\n",
       "      <td>216207.0</td>\n",
       "    </tr>\n",
       "    <tr>\n",
       "      <th>5020</th>\n",
       "      <td>98199</td>\n",
       "      <td>217506.0</td>\n",
       "    </tr>\n",
       "    <tr>\n",
       "      <th>5021</th>\n",
       "      <td>98199</td>\n",
       "      <td>217997.0</td>\n",
       "    </tr>\n",
       "    <tr>\n",
       "      <th>5022</th>\n",
       "      <td>98199</td>\n",
       "      <td>219391.0</td>\n",
       "    </tr>\n",
       "  </tbody>\n",
       "</table>\n",
       "<p>5023 rows × 2 columns</p>\n",
       "</div>"
      ],
      "text/plain": [
       "     region_id     value\n",
       "0        98101  497759.0\n",
       "1        98101  498753.0\n",
       "2        98101  492368.0\n",
       "3        98101  463890.0\n",
       "4        98101  453639.0\n",
       "...        ...       ...\n",
       "5018     98199  214738.0\n",
       "5019     98199  216207.0\n",
       "5020     98199  217506.0\n",
       "5021     98199  217997.0\n",
       "5022     98199  219391.0\n",
       "\n",
       "[5023 rows x 2 columns]"
      ]
     },
     "metadata": {},
     "output_type": "display_data"
    },
    {
     "data": {
      "text/html": [
       "<div>\n",
       "<style scoped>\n",
       "    .dataframe tbody tr th:only-of-type {\n",
       "        vertical-align: middle;\n",
       "    }\n",
       "\n",
       "    .dataframe tbody tr th {\n",
       "        vertical-align: top;\n",
       "    }\n",
       "\n",
       "    .dataframe thead th {\n",
       "        text-align: right;\n",
       "    }\n",
       "</style>\n",
       "<table border=\"1\" class=\"dataframe\">\n",
       "  <thead>\n",
       "    <tr style=\"text-align: right;\">\n",
       "      <th></th>\n",
       "      <th>region_id</th>\n",
       "      <th>value</th>\n",
       "    </tr>\n",
       "  </thead>\n",
       "  <tbody>\n",
       "    <tr>\n",
       "      <th>0</th>\n",
       "      <td>94002</td>\n",
       "      <td>469711.0</td>\n",
       "    </tr>\n",
       "    <tr>\n",
       "      <th>1</th>\n",
       "      <td>94002</td>\n",
       "      <td>459664.0</td>\n",
       "    </tr>\n",
       "    <tr>\n",
       "      <th>2</th>\n",
       "      <td>94002</td>\n",
       "      <td>451389.0</td>\n",
       "    </tr>\n",
       "    <tr>\n",
       "      <th>3</th>\n",
       "      <td>94002</td>\n",
       "      <td>430194.0</td>\n",
       "    </tr>\n",
       "    <tr>\n",
       "      <th>4</th>\n",
       "      <td>94002</td>\n",
       "      <td>419972.0</td>\n",
       "    </tr>\n",
       "    <tr>\n",
       "      <th>...</th>\n",
       "      <td>...</td>\n",
       "      <td>...</td>\n",
       "    </tr>\n",
       "    <tr>\n",
       "      <th>26281</th>\n",
       "      <td>94973</td>\n",
       "      <td>92913.0</td>\n",
       "    </tr>\n",
       "    <tr>\n",
       "      <th>26282</th>\n",
       "      <td>94973</td>\n",
       "      <td>92704.0</td>\n",
       "    </tr>\n",
       "    <tr>\n",
       "      <th>26283</th>\n",
       "      <td>94973</td>\n",
       "      <td>92962.0</td>\n",
       "    </tr>\n",
       "    <tr>\n",
       "      <th>26284</th>\n",
       "      <td>94973</td>\n",
       "      <td>93254.0</td>\n",
       "    </tr>\n",
       "    <tr>\n",
       "      <th>26285</th>\n",
       "      <td>94973</td>\n",
       "      <td>93591.0</td>\n",
       "    </tr>\n",
       "  </tbody>\n",
       "</table>\n",
       "<p>26286 rows × 2 columns</p>\n",
       "</div>"
      ],
      "text/plain": [
       "      region_id     value\n",
       "0         94002  469711.0\n",
       "1         94002  459664.0\n",
       "2         94002  451389.0\n",
       "3         94002  430194.0\n",
       "4         94002  419972.0\n",
       "...         ...       ...\n",
       "26281     94973   92913.0\n",
       "26282     94973   92704.0\n",
       "26283     94973   92962.0\n",
       "26284     94973   93254.0\n",
       "26285     94973   93591.0\n",
       "\n",
       "[26286 rows x 2 columns]"
      ]
     },
     "metadata": {},
     "output_type": "display_data"
    },
    {
     "data": {
      "text/html": [
       "<div>\n",
       "<style scoped>\n",
       "    .dataframe tbody tr th:only-of-type {\n",
       "        vertical-align: middle;\n",
       "    }\n",
       "\n",
       "    .dataframe tbody tr th {\n",
       "        vertical-align: top;\n",
       "    }\n",
       "\n",
       "    .dataframe thead th {\n",
       "        text-align: right;\n",
       "    }\n",
       "</style>\n",
       "<table border=\"1\" class=\"dataframe\">\n",
       "  <thead>\n",
       "    <tr style=\"text-align: right;\">\n",
       "      <th></th>\n",
       "      <th>region_id</th>\n",
       "      <th>value</th>\n",
       "    </tr>\n",
       "  </thead>\n",
       "  <tbody>\n",
       "    <tr>\n",
       "      <th>0</th>\n",
       "      <td>78701</td>\n",
       "      <td>179665.0</td>\n",
       "    </tr>\n",
       "    <tr>\n",
       "      <th>1</th>\n",
       "      <td>78701</td>\n",
       "      <td>175993.0</td>\n",
       "    </tr>\n",
       "    <tr>\n",
       "      <th>2</th>\n",
       "      <td>78701</td>\n",
       "      <td>172798.0</td>\n",
       "    </tr>\n",
       "    <tr>\n",
       "      <th>3</th>\n",
       "      <td>78701</td>\n",
       "      <td>168626.0</td>\n",
       "    </tr>\n",
       "    <tr>\n",
       "      <th>4</th>\n",
       "      <td>78701</td>\n",
       "      <td>166058.0</td>\n",
       "    </tr>\n",
       "    <tr>\n",
       "      <th>...</th>\n",
       "      <td>...</td>\n",
       "      <td>...</td>\n",
       "    </tr>\n",
       "    <tr>\n",
       "      <th>3226</th>\n",
       "      <td>78731</td>\n",
       "      <td>77718.0</td>\n",
       "    </tr>\n",
       "    <tr>\n",
       "      <th>3227</th>\n",
       "      <td>78731</td>\n",
       "      <td>77563.0</td>\n",
       "    </tr>\n",
       "    <tr>\n",
       "      <th>3228</th>\n",
       "      <td>78731</td>\n",
       "      <td>77214.0</td>\n",
       "    </tr>\n",
       "    <tr>\n",
       "      <th>3229</th>\n",
       "      <td>78731</td>\n",
       "      <td>77198.0</td>\n",
       "    </tr>\n",
       "    <tr>\n",
       "      <th>3230</th>\n",
       "      <td>78731</td>\n",
       "      <td>76749.0</td>\n",
       "    </tr>\n",
       "  </tbody>\n",
       "</table>\n",
       "<p>3231 rows × 2 columns</p>\n",
       "</div>"
      ],
      "text/plain": [
       "     region_id     value\n",
       "0        78701  179665.0\n",
       "1        78701  175993.0\n",
       "2        78701  172798.0\n",
       "3        78701  168626.0\n",
       "4        78701  166058.0\n",
       "...        ...       ...\n",
       "3226     78731   77718.0\n",
       "3227     78731   77563.0\n",
       "3228     78731   77214.0\n",
       "3229     78731   77198.0\n",
       "3230     78731   76749.0\n",
       "\n",
       "[3231 rows x 2 columns]"
      ]
     },
     "metadata": {},
     "output_type": "display_data"
    }
   ],
   "source": [
    "display(SeattleDF)\n",
    "display(BayDF)\n",
    "display(AustinDF)"
   ]
  },
  {
   "cell_type": "code",
   "execution_count": 49,
   "id": "8ea3dae1",
   "metadata": {},
   "outputs": [
    {
     "name": "stdout",
     "output_type": "stream",
     "text": [
      "220000\n"
     ]
    }
   ],
   "source": [
    "import requests\n",
    "from bs4 import BeautifulSoup\n",
    "\n",
    "URL = \"https://www.levels.fyi/Salaries/Software-Engineer/San-Francisco-Bay-Area/\"\n",
    "page = requests.get(URL)\n",
    "\n",
    "\n",
    "soup = BeautifulSoup(page.content, \"html.parser\")\n",
    "resultsBayArea = soup.find(id=\"total-median-compensation\").getText()\n",
    "salBay = resultsBayArea[1:].replace(\",\",\"\")\n",
    "print(salBay)"
   ]
  },
  {
   "cell_type": "code",
   "execution_count": 50,
   "id": "f101731f",
   "metadata": {
    "scrolled": true
   },
   "outputs": [
    {
     "name": "stdout",
     "output_type": "stream",
     "text": [
      "210000\n"
     ]
    }
   ],
   "source": [
    "URL = \"https://www.levels.fyi/Salaries/Software-Engineer/Greater-Seattle-Area/\"\n",
    "page = requests.get(URL)\n",
    "\n",
    "\n",
    "soup = BeautifulSoup(page.content, \"html.parser\")\n",
    "resultsSeattle = soup.find(id=\"total-median-compensation\").getText()\n",
    "salSeattle = resultsSeattle[1:].replace(\",\",\"\")\n",
    "print(salSeattle)\n"
   ]
  },
  {
   "cell_type": "code",
   "execution_count": 51,
   "id": "81e28aed",
   "metadata": {
    "scrolled": true
   },
   "outputs": [
    {
     "name": "stdout",
     "output_type": "stream",
     "text": [
      "155000\n"
     ]
    }
   ],
   "source": [
    "URL = \"https://www.levels.fyi/Salaries/Software-Engineer/Greater-Austin-Area/\"\n",
    "page = requests.get(URL)\n",
    "\n",
    "\n",
    "soup = BeautifulSoup(page.content, \"html.parser\")\n",
    "resultsAustin = soup.find(id=\"total-median-compensation\").getText()\n",
    "salAustin = resultsAustin[1:].replace(\",\",\"\")\n",
    "print(salAustin)\n"
   ]
  },
  {
   "cell_type": "code",
   "execution_count": 55,
   "id": "bef0aa96",
   "metadata": {},
   "outputs": [],
   "source": [
    "salaries = [salSeattle,salBay,salAustin]"
   ]
  },
  {
   "cell_type": "code",
   "execution_count": 85,
   "id": "6f1df867",
   "metadata": {},
   "outputs": [
    {
     "name": "stdout",
     "output_type": "stream",
     "text": [
      "[268219.8134580928, 196941.61606939055, 102076.70071185392]\n"
     ]
    }
   ],
   "source": [
    "MeanSeattle = SeattleDF[\"value\"].mean()\n",
    "MeanBay = BayDF[\"value\"].mean()\n",
    "MeanAustin = AustinDF[\"value\"].mean()\n",
    "housing = [MeanSeattle,MeanBay,MeanAustin]\n",
    "print(housing)"
   ]
  },
  {
   "cell_type": "code",
   "execution_count": 87,
   "id": "689b7d6e",
   "metadata": {
    "scrolled": false
   },
   "outputs": [
    {
     "data": {
      "image/png": "[encoded data removed]",
      "text/plain": [
       "<Figure size 1200x450 with 1 Axes>"
      ]
     },
     "metadata": {
      "needs_background": "light"
     },
     "output_type": "display_data"
    },
    {
     "name": "stdout",
     "output_type": "stream",
     "text": [
      "[78293.99226422579, 111708.2333286455, 151846.6005651378]\n"
     ]
    }
   ],
   "source": [
    "import numpy as np\n",
    "import matplotlib.pyplot as plt\n",
    "import matplotlib.cm as cm\n",
    "\n",
    "fig=plt.figure(dpi=150,figsize=[8,3])\n",
    "cities = [\"Seattle\", \"Bay Area\", \"Austin\"]\n",
    "ratio = []\n",
    "for i in range(3):\n",
    "    ratio.append(float(salaries[i])/float(housing[i])*100000)\n",
    "    \n",
    "#print(ratio)\n",
    "plt.bar(cities, ratio)\n",
    "plt.title(\"$100,000 translates to each city when buying a house\" )\n",
    "\n",
    "\n",
    "plt.show()\n",
    "\n",
    "print(ratio)"
   ]
  }
 ],
 "metadata": {
  "kernelspec": {
   "display_name": "Python 3",
   "language": "python",
   "name": "python3"
  },
  "language_info": {
   "codemirror_mode": {
    "name": "ipython",
    "version": 3
   },
   "file_extension": ".py",
   "mimetype": "text/x-python",
   "name": "python",
   "nbconvert_exporter": "python",
   "pygments_lexer": "ipython3",
   "version": "3.8.8"
  }
 },
 "nbformat": 4,
 "nbformat_minor": 5
}
